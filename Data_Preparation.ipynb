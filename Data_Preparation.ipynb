{
 "cells": [
  {
   "cell_type": "code",
   "execution_count": 1,
   "metadata": {},
   "outputs": [],
   "source": [
    "#loading packages\n",
    "import pandas as pd\n",
    "import numpy as np #for mathematical calculations\n",
    "import seaborn as sns\n",
    "import matplotlib.pyplot as plt #for plotting graphs\n",
    "from pathlib import Path #to create path to directories and files\n",
    "%matplotlib inline\n",
    "import warnings #to ignore the warnings\n",
    "warnings.filterwarnings('ignore')"
   ]
  },
  {
   "cell_type": "code",
   "execution_count": 2,
   "metadata": {},
   "outputs": [],
   "source": [
    "#pointing path to directories and files\n",
    "data = Path.cwd() /'data/electricity.csv'\n",
    "\n",
    "#reading data\n",
    "data = pd.read_csv(data)"
   ]
  },
  {
   "cell_type": "code",
   "execution_count": 3,
   "metadata": {},
   "outputs": [
    {
     "data": {
      "text/plain": [
       "(8, 11)"
      ]
     },
     "execution_count": 3,
     "metadata": {},
     "output_type": "execute_result"
    }
   ],
   "source": [
    "#exploring the size of the data\n",
    "data.shape"
   ]
  },
  {
   "cell_type": "code",
   "execution_count": 4,
   "metadata": {},
   "outputs": [
    {
     "data": {
      "text/plain": [
       "Index(['Country Name', 'Country Code', 'Series Name', 'Series Code',\n",
       "       '2012 [YR2012]', '2013 [YR2013]', '2014 [YR2014]', '2015 [YR2015]',\n",
       "       '2016 [YR2016]', '2017 [YR2017]', '2018 [YR2018]'],\n",
       "      dtype='object')"
      ]
     },
     "execution_count": 4,
     "metadata": {},
     "output_type": "execute_result"
    }
   ],
   "source": [
    "data.columns"
   ]
  },
  {
   "cell_type": "code",
   "execution_count": 5,
   "metadata": {},
   "outputs": [
    {
     "data": {
      "text/plain": [
       "Country Name      object\n",
       "Country Code      object\n",
       "Series Name       object\n",
       "Series Code       object\n",
       "2012 [YR2012]    float64\n",
       "2013 [YR2013]    float64\n",
       "2014 [YR2014]    float64\n",
       "2015 [YR2015]    float64\n",
       "2016 [YR2016]    float64\n",
       "2017 [YR2017]    float64\n",
       "2018 [YR2018]     object\n",
       "dtype: object"
      ]
     },
     "execution_count": 5,
     "metadata": {},
     "output_type": "execute_result"
    }
   ],
   "source": [
    "data.dtypes #prints data type for each variable"
   ]
  },
  {
   "cell_type": "code",
   "execution_count": 6,
   "metadata": {},
   "outputs": [
    {
     "data": {
      "text/html": [
       "<div>\n",
       "<style scoped>\n",
       "    .dataframe tbody tr th:only-of-type {\n",
       "        vertical-align: middle;\n",
       "    }\n",
       "\n",
       "    .dataframe tbody tr th {\n",
       "        vertical-align: top;\n",
       "    }\n",
       "\n",
       "    .dataframe thead th {\n",
       "        text-align: right;\n",
       "    }\n",
       "</style>\n",
       "<table border=\"1\" class=\"dataframe\">\n",
       "  <thead>\n",
       "    <tr style=\"text-align: right;\">\n",
       "      <th></th>\n",
       "      <th>Country Name</th>\n",
       "      <th>Country Code</th>\n",
       "      <th>Series Name</th>\n",
       "      <th>Series Code</th>\n",
       "      <th>2012 [YR2012]</th>\n",
       "      <th>2013 [YR2013]</th>\n",
       "      <th>2014 [YR2014]</th>\n",
       "      <th>2015 [YR2015]</th>\n",
       "      <th>2016 [YR2016]</th>\n",
       "      <th>2017 [YR2017]</th>\n",
       "      <th>2018 [YR2018]</th>\n",
       "    </tr>\n",
       "  </thead>\n",
       "  <tbody>\n",
       "    <tr>\n",
       "      <th>0</th>\n",
       "      <td>Sub-Saharan Africa</td>\n",
       "      <td>SSF</td>\n",
       "      <td>Access to electricity (% of population)</td>\n",
       "      <td>EG.ELC.ACCS.ZS</td>\n",
       "      <td>37.349534</td>\n",
       "      <td>38.352562</td>\n",
       "      <td>38.252896</td>\n",
       "      <td>39.399695</td>\n",
       "      <td>44.808715</td>\n",
       "      <td>44.586100</td>\n",
       "      <td>..</td>\n",
       "    </tr>\n",
       "    <tr>\n",
       "      <th>1</th>\n",
       "      <td>Sub-Saharan Africa</td>\n",
       "      <td>SSF</td>\n",
       "      <td>Access to electricity, rural (% of rural popul...</td>\n",
       "      <td>EG.ELC.ACCS.RU.ZS</td>\n",
       "      <td>17.635623</td>\n",
       "      <td>18.577392</td>\n",
       "      <td>17.609717</td>\n",
       "      <td>17.928872</td>\n",
       "      <td>24.775920</td>\n",
       "      <td>22.613252</td>\n",
       "      <td>..</td>\n",
       "    </tr>\n",
       "    <tr>\n",
       "      <th>2</th>\n",
       "      <td>Sub-Saharan Africa</td>\n",
       "      <td>SSF</td>\n",
       "      <td>Access to electricity, urban (% of urban popul...</td>\n",
       "      <td>EG.ELC.ACCS.UR.ZS</td>\n",
       "      <td>72.012166</td>\n",
       "      <td>72.559545</td>\n",
       "      <td>72.780081</td>\n",
       "      <td>74.323935</td>\n",
       "      <td>76.924291</td>\n",
       "      <td>78.965233</td>\n",
       "      <td>..</td>\n",
       "    </tr>\n",
       "    <tr>\n",
       "      <th>3</th>\n",
       "      <td>NaN</td>\n",
       "      <td>NaN</td>\n",
       "      <td>NaN</td>\n",
       "      <td>NaN</td>\n",
       "      <td>NaN</td>\n",
       "      <td>NaN</td>\n",
       "      <td>NaN</td>\n",
       "      <td>NaN</td>\n",
       "      <td>NaN</td>\n",
       "      <td>NaN</td>\n",
       "      <td>NaN</td>\n",
       "    </tr>\n",
       "    <tr>\n",
       "      <th>4</th>\n",
       "      <td>NaN</td>\n",
       "      <td>NaN</td>\n",
       "      <td>NaN</td>\n",
       "      <td>NaN</td>\n",
       "      <td>NaN</td>\n",
       "      <td>NaN</td>\n",
       "      <td>NaN</td>\n",
       "      <td>NaN</td>\n",
       "      <td>NaN</td>\n",
       "      <td>NaN</td>\n",
       "      <td>NaN</td>\n",
       "    </tr>\n",
       "  </tbody>\n",
       "</table>\n",
       "</div>"
      ],
      "text/plain": [
       "         Country Name Country Code  \\\n",
       "0  Sub-Saharan Africa          SSF   \n",
       "1  Sub-Saharan Africa          SSF   \n",
       "2  Sub-Saharan Africa          SSF   \n",
       "3                 NaN          NaN   \n",
       "4                 NaN          NaN   \n",
       "\n",
       "                                         Series Name        Series Code  \\\n",
       "0            Access to electricity (% of population)     EG.ELC.ACCS.ZS   \n",
       "1  Access to electricity, rural (% of rural popul...  EG.ELC.ACCS.RU.ZS   \n",
       "2  Access to electricity, urban (% of urban popul...  EG.ELC.ACCS.UR.ZS   \n",
       "3                                                NaN                NaN   \n",
       "4                                                NaN                NaN   \n",
       "\n",
       "   2012 [YR2012]  2013 [YR2013]  2014 [YR2014]  2015 [YR2015]  2016 [YR2016]  \\\n",
       "0      37.349534      38.352562      38.252896      39.399695      44.808715   \n",
       "1      17.635623      18.577392      17.609717      17.928872      24.775920   \n",
       "2      72.012166      72.559545      72.780081      74.323935      76.924291   \n",
       "3            NaN            NaN            NaN            NaN            NaN   \n",
       "4            NaN            NaN            NaN            NaN            NaN   \n",
       "\n",
       "   2017 [YR2017] 2018 [YR2018]  \n",
       "0      44.586100            ..  \n",
       "1      22.613252            ..  \n",
       "2      78.965233            ..  \n",
       "3            NaN           NaN  \n",
       "4            NaN           NaN  "
      ]
     },
     "execution_count": 6,
     "metadata": {},
     "output_type": "execute_result"
    }
   ],
   "source": [
    "data.head()"
   ]
  },
  {
   "cell_type": "code",
   "execution_count": 7,
   "metadata": {},
   "outputs": [
    {
     "data": {
      "text/html": [
       "<div>\n",
       "<style scoped>\n",
       "    .dataframe tbody tr th:only-of-type {\n",
       "        vertical-align: middle;\n",
       "    }\n",
       "\n",
       "    .dataframe tbody tr th {\n",
       "        vertical-align: top;\n",
       "    }\n",
       "\n",
       "    .dataframe thead th {\n",
       "        text-align: right;\n",
       "    }\n",
       "</style>\n",
       "<table border=\"1\" class=\"dataframe\">\n",
       "  <thead>\n",
       "    <tr style=\"text-align: right;\">\n",
       "      <th></th>\n",
       "      <th>Country Name</th>\n",
       "      <th>Country Code</th>\n",
       "      <th>Series Name</th>\n",
       "      <th>Series Code</th>\n",
       "      <th>2012 [YR2012]</th>\n",
       "      <th>2013 [YR2013]</th>\n",
       "      <th>2014 [YR2014]</th>\n",
       "      <th>2015 [YR2015]</th>\n",
       "      <th>2016 [YR2016]</th>\n",
       "      <th>2017 [YR2017]</th>\n",
       "      <th>2018 [YR2018]</th>\n",
       "    </tr>\n",
       "  </thead>\n",
       "  <tbody>\n",
       "    <tr>\n",
       "      <th>3</th>\n",
       "      <td>NaN</td>\n",
       "      <td>NaN</td>\n",
       "      <td>NaN</td>\n",
       "      <td>NaN</td>\n",
       "      <td>NaN</td>\n",
       "      <td>NaN</td>\n",
       "      <td>NaN</td>\n",
       "      <td>NaN</td>\n",
       "      <td>NaN</td>\n",
       "      <td>NaN</td>\n",
       "      <td>NaN</td>\n",
       "    </tr>\n",
       "    <tr>\n",
       "      <th>4</th>\n",
       "      <td>NaN</td>\n",
       "      <td>NaN</td>\n",
       "      <td>NaN</td>\n",
       "      <td>NaN</td>\n",
       "      <td>NaN</td>\n",
       "      <td>NaN</td>\n",
       "      <td>NaN</td>\n",
       "      <td>NaN</td>\n",
       "      <td>NaN</td>\n",
       "      <td>NaN</td>\n",
       "      <td>NaN</td>\n",
       "    </tr>\n",
       "    <tr>\n",
       "      <th>5</th>\n",
       "      <td>NaN</td>\n",
       "      <td>NaN</td>\n",
       "      <td>NaN</td>\n",
       "      <td>NaN</td>\n",
       "      <td>NaN</td>\n",
       "      <td>NaN</td>\n",
       "      <td>NaN</td>\n",
       "      <td>NaN</td>\n",
       "      <td>NaN</td>\n",
       "      <td>NaN</td>\n",
       "      <td>NaN</td>\n",
       "    </tr>\n",
       "    <tr>\n",
       "      <th>6</th>\n",
       "      <td>Data from database: Sustainable Development Go...</td>\n",
       "      <td>NaN</td>\n",
       "      <td>NaN</td>\n",
       "      <td>NaN</td>\n",
       "      <td>NaN</td>\n",
       "      <td>NaN</td>\n",
       "      <td>NaN</td>\n",
       "      <td>NaN</td>\n",
       "      <td>NaN</td>\n",
       "      <td>NaN</td>\n",
       "      <td>NaN</td>\n",
       "    </tr>\n",
       "    <tr>\n",
       "      <th>7</th>\n",
       "      <td>Last Updated: 10/29/2019</td>\n",
       "      <td>NaN</td>\n",
       "      <td>NaN</td>\n",
       "      <td>NaN</td>\n",
       "      <td>NaN</td>\n",
       "      <td>NaN</td>\n",
       "      <td>NaN</td>\n",
       "      <td>NaN</td>\n",
       "      <td>NaN</td>\n",
       "      <td>NaN</td>\n",
       "      <td>NaN</td>\n",
       "    </tr>\n",
       "  </tbody>\n",
       "</table>\n",
       "</div>"
      ],
      "text/plain": [
       "                                        Country Name Country Code Series Name  \\\n",
       "3                                                NaN          NaN         NaN   \n",
       "4                                                NaN          NaN         NaN   \n",
       "5                                                NaN          NaN         NaN   \n",
       "6  Data from database: Sustainable Development Go...          NaN         NaN   \n",
       "7                           Last Updated: 10/29/2019          NaN         NaN   \n",
       "\n",
       "  Series Code  2012 [YR2012]  2013 [YR2013]  2014 [YR2014]  2015 [YR2015]  \\\n",
       "3         NaN            NaN            NaN            NaN            NaN   \n",
       "4         NaN            NaN            NaN            NaN            NaN   \n",
       "5         NaN            NaN            NaN            NaN            NaN   \n",
       "6         NaN            NaN            NaN            NaN            NaN   \n",
       "7         NaN            NaN            NaN            NaN            NaN   \n",
       "\n",
       "   2016 [YR2016]  2017 [YR2017] 2018 [YR2018]  \n",
       "3            NaN            NaN           NaN  \n",
       "4            NaN            NaN           NaN  \n",
       "5            NaN            NaN           NaN  \n",
       "6            NaN            NaN           NaN  \n",
       "7            NaN            NaN           NaN  "
      ]
     },
     "execution_count": 7,
     "metadata": {},
     "output_type": "execute_result"
    }
   ],
   "source": [
    "data.tail()"
   ]
  },
  {
   "cell_type": "code",
   "execution_count": 8,
   "metadata": {},
   "outputs": [
    {
     "data": {
      "text/plain": [
       "Country Name      object\n",
       "Country Code      object\n",
       "Series Name       object\n",
       "Series Code       object\n",
       "2012 [YR2012]    float64\n",
       "2013 [YR2013]    float64\n",
       "2014 [YR2014]    float64\n",
       "2015 [YR2015]    float64\n",
       "2016 [YR2016]    float64\n",
       "2017 [YR2017]    float64\n",
       "2018 [YR2018]     object\n",
       "dtype: object"
      ]
     },
     "execution_count": 8,
     "metadata": {},
     "output_type": "execute_result"
    }
   ],
   "source": [
    "#type of data we are handlling\n",
    "data.dtypes"
   ]
  },
  {
   "cell_type": "markdown",
   "metadata": {},
   "source": [
    "**Insight from above data**\n",
    "\n",
    "- Looking at the shape of our data we see we have 8 rows and 11 columns.\n",
    "\n",
    "- But looking closely at our data ('data.head' & 'data.tail'), we see only the first 3 rows have meaningful information, the rest of the rows have 'NaN' values. Also data['2018 [YR2018'] column has 'NaN' values.\n",
    "\n",
    "- We will need to clean our data before gaining insights."
   ]
  },
  {
   "cell_type": "code",
   "execution_count": 9,
   "metadata": {},
   "outputs": [],
   "source": [
    "# dropping rows with NaN values\n",
    "data = data.dropna()"
   ]
  },
  {
   "cell_type": "code",
   "execution_count": 10,
   "metadata": {},
   "outputs": [],
   "source": [
    "'''\n",
    "dropping columns:\n",
    "Country Name, Country Code & Series Code since we won't need them in our analysis\n",
    "2018 [YR2018] since it has no values\n",
    "'''\n",
    "data = data.drop(['Country Name', 'Country Code', 'Series Code', '2018 [YR2018]'], axis=1)"
   ]
  },
  {
   "cell_type": "code",
   "execution_count": 11,
   "metadata": {
    "scrolled": true
   },
   "outputs": [
    {
     "data": {
      "text/html": [
       "<div>\n",
       "<style scoped>\n",
       "    .dataframe tbody tr th:only-of-type {\n",
       "        vertical-align: middle;\n",
       "    }\n",
       "\n",
       "    .dataframe tbody tr th {\n",
       "        vertical-align: top;\n",
       "    }\n",
       "\n",
       "    .dataframe thead th {\n",
       "        text-align: right;\n",
       "    }\n",
       "</style>\n",
       "<table border=\"1\" class=\"dataframe\">\n",
       "  <thead>\n",
       "    <tr style=\"text-align: right;\">\n",
       "      <th></th>\n",
       "      <th>Series Name</th>\n",
       "      <th>2012 [YR2012]</th>\n",
       "      <th>2013 [YR2013]</th>\n",
       "      <th>2014 [YR2014]</th>\n",
       "      <th>2015 [YR2015]</th>\n",
       "      <th>2016 [YR2016]</th>\n",
       "      <th>2017 [YR2017]</th>\n",
       "    </tr>\n",
       "  </thead>\n",
       "  <tbody>\n",
       "    <tr>\n",
       "      <th>0</th>\n",
       "      <td>Access to electricity (% of population)</td>\n",
       "      <td>37.349534</td>\n",
       "      <td>38.352562</td>\n",
       "      <td>38.252896</td>\n",
       "      <td>39.399695</td>\n",
       "      <td>44.808715</td>\n",
       "      <td>44.586100</td>\n",
       "    </tr>\n",
       "    <tr>\n",
       "      <th>1</th>\n",
       "      <td>Access to electricity, rural (% of rural popul...</td>\n",
       "      <td>17.635623</td>\n",
       "      <td>18.577392</td>\n",
       "      <td>17.609717</td>\n",
       "      <td>17.928872</td>\n",
       "      <td>24.775920</td>\n",
       "      <td>22.613252</td>\n",
       "    </tr>\n",
       "    <tr>\n",
       "      <th>2</th>\n",
       "      <td>Access to electricity, urban (% of urban popul...</td>\n",
       "      <td>72.012166</td>\n",
       "      <td>72.559545</td>\n",
       "      <td>72.780081</td>\n",
       "      <td>74.323935</td>\n",
       "      <td>76.924291</td>\n",
       "      <td>78.965233</td>\n",
       "    </tr>\n",
       "  </tbody>\n",
       "</table>\n",
       "</div>"
      ],
      "text/plain": [
       "                                         Series Name  2012 [YR2012]  \\\n",
       "0            Access to electricity (% of population)      37.349534   \n",
       "1  Access to electricity, rural (% of rural popul...      17.635623   \n",
       "2  Access to electricity, urban (% of urban popul...      72.012166   \n",
       "\n",
       "   2013 [YR2013]  2014 [YR2014]  2015 [YR2015]  2016 [YR2016]  2017 [YR2017]  \n",
       "0      38.352562      38.252896      39.399695      44.808715      44.586100  \n",
       "1      18.577392      17.609717      17.928872      24.775920      22.613252  \n",
       "2      72.559545      72.780081      74.323935      76.924291      78.965233  "
      ]
     },
     "execution_count": 11,
     "metadata": {},
     "output_type": "execute_result"
    }
   ],
   "source": [
    "data.head()"
   ]
  },
  {
   "cell_type": "code",
   "execution_count": 12,
   "metadata": {},
   "outputs": [
    {
     "data": {
      "text/plain": [
       "Access to electricity (% of population)                 1\n",
       "Access to electricity, rural (% of rural population)    1\n",
       "Access to electricity, urban (% of urban population)    1\n",
       "Name: Series Name, dtype: int64"
      ]
     },
     "execution_count": 12,
     "metadata": {},
     "output_type": "execute_result"
    }
   ],
   "source": [
    "data['Series Name'].value_counts()"
   ]
  },
  {
   "cell_type": "markdown",
   "metadata": {},
   "source": [
    "    I want to shorten the contents of 'Series Name' so that I will have:\n",
    "\n",
    "- `Total(%)` in place of `Access to electricity (% of population)`\n",
    "\n",
    "- `Urban(%)` in place of `Access to electricity, urban (% of urban population)`\n",
    "\n",
    "- `Rural(%)` in place of `Access to electricity, rural (% of rural population)`\n",
    "\n",
    "    Also we can rename the variable to 'Electricity_Coverage' to make it easily understood."
   ]
  },
  {
   "cell_type": "code",
   "execution_count": 13,
   "metadata": {
    "scrolled": true
   },
   "outputs": [
    {
     "name": "stdout",
     "output_type": "stream",
     "text": [
      "Original Categories:\n",
      "Access to electricity (% of population)                 1\n",
      "Access to electricity, rural (% of rural population)    1\n",
      "Access to electricity, urban (% of urban population)    1\n",
      "Name: Electricity_Coverage, dtype: int64\n",
      "\n",
      "Modified Categories:\n",
      "Total(%)    1\n",
      "Urban(%)    1\n",
      "Rural(%)    1\n",
      "Name: Electricity_Coverage, dtype: int64\n"
     ]
    }
   ],
   "source": [
    "#renaming column\n",
    "data.rename(columns={'Series Name': 'Electricity_Coverage'}, inplace=True)\n",
    "\n",
    "#Change categories of Access to electricity:\n",
    "print ('Original Categories:')\n",
    "print (data['Electricity_Coverage'].value_counts())\n",
    "\n",
    "print ('\\nModified Categories:')\n",
    "data['Electricity_Coverage'] = data['Electricity_Coverage'].replace({'Access to electricity (% of population)':'Total(%)',\n",
    "                                                             'Access to electricity, urban (% of urban population)':'Urban(%)',\n",
    "                                                             'Access to electricity, rural (% of rural population)':'Rural(%)'})\n",
    "print (data['Electricity_Coverage'].value_counts())"
   ]
  },
  {
   "cell_type": "code",
   "execution_count": 14,
   "metadata": {},
   "outputs": [
    {
     "data": {
      "text/html": [
       "<div>\n",
       "<style scoped>\n",
       "    .dataframe tbody tr th:only-of-type {\n",
       "        vertical-align: middle;\n",
       "    }\n",
       "\n",
       "    .dataframe tbody tr th {\n",
       "        vertical-align: top;\n",
       "    }\n",
       "\n",
       "    .dataframe thead th {\n",
       "        text-align: right;\n",
       "    }\n",
       "</style>\n",
       "<table border=\"1\" class=\"dataframe\">\n",
       "  <thead>\n",
       "    <tr style=\"text-align: right;\">\n",
       "      <th></th>\n",
       "      <th>Electricity_Coverage</th>\n",
       "      <th>2012 [YR2012]</th>\n",
       "      <th>2013 [YR2013]</th>\n",
       "      <th>2014 [YR2014]</th>\n",
       "      <th>2015 [YR2015]</th>\n",
       "      <th>2016 [YR2016]</th>\n",
       "      <th>2017 [YR2017]</th>\n",
       "    </tr>\n",
       "  </thead>\n",
       "  <tbody>\n",
       "    <tr>\n",
       "      <th>0</th>\n",
       "      <td>Total(%)</td>\n",
       "      <td>37.349534</td>\n",
       "      <td>38.352562</td>\n",
       "      <td>38.252896</td>\n",
       "      <td>39.399695</td>\n",
       "      <td>44.808715</td>\n",
       "      <td>44.586100</td>\n",
       "    </tr>\n",
       "    <tr>\n",
       "      <th>1</th>\n",
       "      <td>Rural(%)</td>\n",
       "      <td>17.635623</td>\n",
       "      <td>18.577392</td>\n",
       "      <td>17.609717</td>\n",
       "      <td>17.928872</td>\n",
       "      <td>24.775920</td>\n",
       "      <td>22.613252</td>\n",
       "    </tr>\n",
       "    <tr>\n",
       "      <th>2</th>\n",
       "      <td>Urban(%)</td>\n",
       "      <td>72.012166</td>\n",
       "      <td>72.559545</td>\n",
       "      <td>72.780081</td>\n",
       "      <td>74.323935</td>\n",
       "      <td>76.924291</td>\n",
       "      <td>78.965233</td>\n",
       "    </tr>\n",
       "  </tbody>\n",
       "</table>\n",
       "</div>"
      ],
      "text/plain": [
       "  Electricity_Coverage  2012 [YR2012]  2013 [YR2013]  2014 [YR2014]  \\\n",
       "0             Total(%)      37.349534      38.352562      38.252896   \n",
       "1             Rural(%)      17.635623      18.577392      17.609717   \n",
       "2             Urban(%)      72.012166      72.559545      72.780081   \n",
       "\n",
       "   2015 [YR2015]  2016 [YR2016]  2017 [YR2017]  \n",
       "0      39.399695      44.808715      44.586100  \n",
       "1      17.928872      24.775920      22.613252  \n",
       "2      74.323935      76.924291      78.965233  "
      ]
     },
     "execution_count": 14,
     "metadata": {},
     "output_type": "execute_result"
    }
   ],
   "source": [
    "data.head()"
   ]
  },
  {
   "cell_type": "markdown",
   "metadata": {},
   "source": [
    "   Finaly to be able to analyse our data we need to make `Electricity_Coverage` to be columns and the year values to be our rows.\n",
    "   \n",
    "   This will assist in seeing the trend for `Total(%)`, `Rural(%)` and `Urban(%)`. Also how each relates to the `Total(%)`.\n",
    "   "
   ]
  },
  {
   "cell_type": "code",
   "execution_count": 15,
   "metadata": {},
   "outputs": [
    {
     "name": "stdout",
     "output_type": "stream",
     "text": [
      "                      2012 [YR2012]  2013 [YR2013]  2014 [YR2014]  \\\n",
      "Electricity_Coverage                                                \n",
      "Total(%)                  37.349534      38.352562      38.252896   \n",
      "Rural(%)                  17.635623      18.577392      17.609717   \n",
      "Urban(%)                  72.012166      72.559545      72.780081   \n",
      "\n",
      "                      2015 [YR2015]  2016 [YR2016]  2017 [YR2017]  \n",
      "Electricity_Coverage                                               \n",
      "Total(%)                  39.399695      44.808715      44.586100  \n",
      "Rural(%)                  17.928872      24.775920      22.613252  \n",
      "Urban(%)                  74.323935      76.924291      78.965233  \n"
     ]
    }
   ],
   "source": [
    "#using set_index() method on 'Electricity_Coverage' column\n",
    "\n",
    "data_1 = data.set_index('Electricity_Coverage')\n",
    "print(data_1)"
   ]
  },
  {
   "cell_type": "code",
   "execution_count": 16,
   "metadata": {},
   "outputs": [
    {
     "name": "stdout",
     "output_type": "stream",
     "text": [
      "          2012 [YR2012]  2013 [YR2013]  2014 [YR2014]  2015 [YR2015]  \\\n",
      "Total(%)      37.349534      38.352562      38.252896      39.399695   \n",
      "Rural(%)      17.635623      18.577392      17.609717      17.928872   \n",
      "Urban(%)      72.012166      72.559545      72.780081      74.323935   \n",
      "\n",
      "          2016 [YR2016]  2017 [YR2017]  \n",
      "Total(%)      44.808715      44.586100  \n",
      "Rural(%)      24.775920      22.613252  \n",
      "Urban(%)      76.924291      78.965233  \n"
     ]
    }
   ],
   "source": [
    "#set index 'None' via its name property\n",
    "data_1.index.names = [None]\n",
    "print(data_1)"
   ]
  },
  {
   "cell_type": "code",
   "execution_count": 17,
   "metadata": {},
   "outputs": [
    {
     "name": "stdout",
     "output_type": "stream",
     "text": [
      "                Total(%)   Rural(%)   Urban(%)\n",
      "2012 [YR2012]  37.349534  17.635623  72.012166\n",
      "2013 [YR2013]  38.352562  18.577392  72.559545\n",
      "2014 [YR2014]  38.252896  17.609717  72.780081\n",
      "2015 [YR2015]  39.399695  17.928872  74.323935\n",
      "2016 [YR2016]  44.808715  24.775920  76.924291\n",
      "2017 [YR2017]  44.586100  22.613252  78.965233\n"
     ]
    }
   ],
   "source": [
    "data_transposed = data_1.transpose()\n",
    "print(data_transposed)"
   ]
  },
  {
   "cell_type": "code",
   "execution_count": 18,
   "metadata": {},
   "outputs": [
    {
     "data": {
      "text/plain": [
       "Total(%)    float64\n",
       "Rural(%)    float64\n",
       "Urban(%)    float64\n",
       "dtype: object"
      ]
     },
     "execution_count": 18,
     "metadata": {},
     "output_type": "execute_result"
    }
   ],
   "source": [
    "data_transposed.dtypes"
   ]
  },
  {
   "cell_type": "code",
   "execution_count": 19,
   "metadata": {},
   "outputs": [
    {
     "name": "stdout",
     "output_type": "stream",
     "text": [
      "                Total(%)   Rural(%)   Urban(%)\n",
      "Year                                          \n",
      "2012 [YR2012]  37.349534  17.635623  72.012166\n",
      "2013 [YR2013]  38.352562  18.577392  72.559545\n",
      "2014 [YR2014]  38.252896  17.609717  72.780081\n",
      "2015 [YR2015]  39.399695  17.928872  74.323935\n",
      "2016 [YR2016]  44.808715  24.775920  76.924291\n",
      "2017 [YR2017]  44.586100  22.613252  78.965233\n"
     ]
    }
   ],
   "source": [
    "#set index 'Year' via its name property\n",
    "data_transposed.index.names = ['Year']\n",
    "print(data_transposed)"
   ]
  },
  {
   "cell_type": "code",
   "execution_count": 20,
   "metadata": {},
   "outputs": [
    {
     "data": {
      "text/plain": [
       "Index(['Total(%)', 'Rural(%)', 'Urban(%)'], dtype='object')"
      ]
     },
     "execution_count": 20,
     "metadata": {},
     "output_type": "execute_result"
    }
   ],
   "source": [
    "data_transposed.columns"
   ]
  },
  {
   "cell_type": "code",
   "execution_count": 21,
   "metadata": {},
   "outputs": [
    {
     "data": {
      "text/html": [
       "<div>\n",
       "<style scoped>\n",
       "    .dataframe tbody tr th:only-of-type {\n",
       "        vertical-align: middle;\n",
       "    }\n",
       "\n",
       "    .dataframe tbody tr th {\n",
       "        vertical-align: top;\n",
       "    }\n",
       "\n",
       "    .dataframe thead th {\n",
       "        text-align: right;\n",
       "    }\n",
       "</style>\n",
       "<table border=\"1\" class=\"dataframe\">\n",
       "  <thead>\n",
       "    <tr style=\"text-align: right;\">\n",
       "      <th></th>\n",
       "      <th>Total(%)</th>\n",
       "      <th>Rural(%)</th>\n",
       "      <th>Urban(%)</th>\n",
       "    </tr>\n",
       "    <tr>\n",
       "      <th>Year</th>\n",
       "      <th></th>\n",
       "      <th></th>\n",
       "      <th></th>\n",
       "    </tr>\n",
       "  </thead>\n",
       "  <tbody>\n",
       "    <tr>\n",
       "      <th>2012 [YR2012]</th>\n",
       "      <td>37.349534</td>\n",
       "      <td>17.635623</td>\n",
       "      <td>72.012166</td>\n",
       "    </tr>\n",
       "    <tr>\n",
       "      <th>2013 [YR2013]</th>\n",
       "      <td>38.352562</td>\n",
       "      <td>18.577392</td>\n",
       "      <td>72.559545</td>\n",
       "    </tr>\n",
       "    <tr>\n",
       "      <th>2014 [YR2014]</th>\n",
       "      <td>38.252896</td>\n",
       "      <td>17.609717</td>\n",
       "      <td>72.780081</td>\n",
       "    </tr>\n",
       "    <tr>\n",
       "      <th>2015 [YR2015]</th>\n",
       "      <td>39.399695</td>\n",
       "      <td>17.928872</td>\n",
       "      <td>74.323935</td>\n",
       "    </tr>\n",
       "    <tr>\n",
       "      <th>2016 [YR2016]</th>\n",
       "      <td>44.808715</td>\n",
       "      <td>24.775920</td>\n",
       "      <td>76.924291</td>\n",
       "    </tr>\n",
       "  </tbody>\n",
       "</table>\n",
       "</div>"
      ],
      "text/plain": [
       "                Total(%)   Rural(%)   Urban(%)\n",
       "Year                                          \n",
       "2012 [YR2012]  37.349534  17.635623  72.012166\n",
       "2013 [YR2013]  38.352562  18.577392  72.559545\n",
       "2014 [YR2014]  38.252896  17.609717  72.780081\n",
       "2015 [YR2015]  39.399695  17.928872  74.323935\n",
       "2016 [YR2016]  44.808715  24.775920  76.924291"
      ]
     },
     "execution_count": 21,
     "metadata": {},
     "output_type": "execute_result"
    }
   ],
   "source": [
    "data_transposed.head()"
   ]
  },
  {
   "cell_type": "code",
   "execution_count": 22,
   "metadata": {},
   "outputs": [
    {
     "data": {
      "text/html": [
       "<div>\n",
       "<style scoped>\n",
       "    .dataframe tbody tr th:only-of-type {\n",
       "        vertical-align: middle;\n",
       "    }\n",
       "\n",
       "    .dataframe tbody tr th {\n",
       "        vertical-align: top;\n",
       "    }\n",
       "\n",
       "    .dataframe thead th {\n",
       "        text-align: right;\n",
       "    }\n",
       "</style>\n",
       "<table border=\"1\" class=\"dataframe\">\n",
       "  <thead>\n",
       "    <tr style=\"text-align: right;\">\n",
       "      <th></th>\n",
       "      <th>Year</th>\n",
       "      <th>Total(%)</th>\n",
       "      <th>Rural(%)</th>\n",
       "      <th>Urban(%)</th>\n",
       "    </tr>\n",
       "  </thead>\n",
       "  <tbody>\n",
       "    <tr>\n",
       "      <th>0</th>\n",
       "      <td>2012 [YR2012]</td>\n",
       "      <td>37.349534</td>\n",
       "      <td>17.635623</td>\n",
       "      <td>72.012166</td>\n",
       "    </tr>\n",
       "    <tr>\n",
       "      <th>1</th>\n",
       "      <td>2013 [YR2013]</td>\n",
       "      <td>38.352562</td>\n",
       "      <td>18.577392</td>\n",
       "      <td>72.559545</td>\n",
       "    </tr>\n",
       "    <tr>\n",
       "      <th>2</th>\n",
       "      <td>2014 [YR2014]</td>\n",
       "      <td>38.252896</td>\n",
       "      <td>17.609717</td>\n",
       "      <td>72.780081</td>\n",
       "    </tr>\n",
       "    <tr>\n",
       "      <th>3</th>\n",
       "      <td>2015 [YR2015]</td>\n",
       "      <td>39.399695</td>\n",
       "      <td>17.928872</td>\n",
       "      <td>74.323935</td>\n",
       "    </tr>\n",
       "    <tr>\n",
       "      <th>4</th>\n",
       "      <td>2016 [YR2016]</td>\n",
       "      <td>44.808715</td>\n",
       "      <td>24.775920</td>\n",
       "      <td>76.924291</td>\n",
       "    </tr>\n",
       "    <tr>\n",
       "      <th>5</th>\n",
       "      <td>2017 [YR2017]</td>\n",
       "      <td>44.586100</td>\n",
       "      <td>22.613252</td>\n",
       "      <td>78.965233</td>\n",
       "    </tr>\n",
       "  </tbody>\n",
       "</table>\n",
       "</div>"
      ],
      "text/plain": [
       "            Year   Total(%)   Rural(%)   Urban(%)\n",
       "0  2012 [YR2012]  37.349534  17.635623  72.012166\n",
       "1  2013 [YR2013]  38.352562  18.577392  72.559545\n",
       "2  2014 [YR2014]  38.252896  17.609717  72.780081\n",
       "3  2015 [YR2015]  39.399695  17.928872  74.323935\n",
       "4  2016 [YR2016]  44.808715  24.775920  76.924291\n",
       "5  2017 [YR2017]  44.586100  22.613252  78.965233"
      ]
     },
     "execution_count": 22,
     "metadata": {},
     "output_type": "execute_result"
    }
   ],
   "source": [
    "#https://appdividend.com/2019/01/26/pandas-set-index-example-python-set_index-tutorial/\n",
    "data_transposed.reset_index(level=0, inplace=True) #converting index into column\n",
    "data_transposed"
   ]
  },
  {
   "cell_type": "code",
   "execution_count": 23,
   "metadata": {},
   "outputs": [
    {
     "data": {
      "image/png": "[encoded data removed]",
      "text/plain": [
       "<Figure size 1152x648 with 1 Axes>"
      ]
     },
     "metadata": {
      "needs_background": "light"
     },
     "output_type": "display_data"
    }
   ],
   "source": [
    "#line plot\n",
    "\n",
    "data_transposed = data_transposed.melt('Year', var_name='cols', value_name='Electricity(%)')\n",
    "plt.figure(figsize=(16,9))\n",
    "sns.lineplot(x='Year', y='Electricity(%)', hue='cols', data=data_transposed)\n",
    "plt.show()"
   ]
  },
  {
   "cell_type": "markdown",
   "metadata": {},
   "source": [
    "**Insights from above plot**\n",
    "\n",
    "- From above we see all the variables have an upward trend, though from 2012 upto around 2015 the electricity coverage seems to be relatively flat. It will be interesting to find out why years between 2012 and 2015 sluggish in electricity coverage.\n",
    "- Comparing urban and rural electricity coverage, urban has a consistent upward trend while for rural it had a slight increase between 2012 and 2013, it then had a downward trend between 2013 and 2015 before shooting up again. This is also an interesting area of research, trying to find out why electricity coverage for rural behaves so and factors behind it.\n",
    "- Also it will be interesting to know electricity coverage for the rest of the world and learn what they are doing different."
   ]
  }
 ],
 "metadata": {
  "kernelspec": {
   "display_name": "Python 3",
   "language": "python",
   "name": "python3"
  },
  "language_info": {
   "codemirror_mode": {
    "name": "ipython",
    "version": 3
   },
   "file_extension": ".py",
   "mimetype": "text/x-python",
   "name": "python",
   "nbconvert_exporter": "python",
   "pygments_lexer": "ipython3",
   "version": "3.7.5"
  }
 },
 "nbformat": 4,
 "nbformat_minor": 2
}
